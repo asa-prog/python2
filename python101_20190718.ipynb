{
  "nbformat": 4,
  "nbformat_minor": 0,
  "metadata": {
    "colab": {
      "name": "python101.20190718",
      "version": "0.3.2",
      "provenance": [],
      "toc_visible": true,
      "include_colab_link": true
    },
    "kernelspec": {
      "name": "python3",
      "display_name": "Python 3"
    },
    "accelerator": "GPU"
  },
  "cells": [
    {
      "cell_type": "markdown",
      "metadata": {
        "id": "view-in-github",
        "colab_type": "text"
      },
      "source": [
        "<a href=\"https://colab.research.google.com/github/asa-prog/python2/blob/master/python101_20190718.ipynb\" target=\"_parent\"><img src=\"https://colab.research.google.com/assets/colab-badge.svg\" alt=\"Open In Colab\"/></a>"
      ]
    },
    {
      "cell_type": "code",
      "metadata": {
        "id": "OLV6mmGywRkn",
        "colab_type": "code",
        "colab": {}
      },
      "source": [
        ""
      ],
      "execution_count": 0,
      "outputs": []
    },
    {
      "cell_type": "markdown",
      "metadata": {
        "id": "IMfQQS5owtbC",
        "colab_type": "text"
      },
      "source": [
        "# Python超入門"
      ]
    },
    {
      "cell_type": "markdown",
      "metadata": {
        "id": "xTshqUS5xCX_",
        "colab_type": "text"
      },
      "source": [
        "## 変数とは"
      ]
    },
    {
      "cell_type": "code",
      "metadata": {
        "id": "skkAbIVWxxnh",
        "colab_type": "code",
        "colab": {
          "base_uri": "https://localhost:8080/",
          "height": 34
        },
        "outputId": "4c33d139-e6e5-44b4-a4bd-bf1b96f41421"
      },
      "source": [
        "a = 1 + 1\n",
        "print(a)"
      ],
      "execution_count": 5,
      "outputs": [
        {
          "output_type": "stream",
          "text": [
            "2\n"
          ],
          "name": "stdout"
        }
      ]
    },
    {
      "cell_type": "markdown",
      "metadata": {
        "id": "e3VTJxzryWW7",
        "colab_type": "text"
      },
      "source": [
        "## データ型とは"
      ]
    },
    {
      "cell_type": "markdown",
      "metadata": {
        "id": "UJTl3YUpyarX",
        "colab_type": "text"
      },
      "source": [
        "### 文字列(str)"
      ]
    },
    {
      "cell_type": "markdown",
      "metadata": {
        "id": "Ctp7HrDUzjAc",
        "colab_type": "text"
      },
      "source": [
        ""
      ]
    },
    {
      "cell_type": "code",
      "metadata": {
        "id": "8EzgvvL-yjTw",
        "colab_type": "code",
        "colab": {
          "base_uri": "https://localhost:8080/",
          "height": 34
        },
        "outputId": "40dce5e2-316d-45ae-b27f-407b08385203"
      },
      "source": [
        "print('hello')"
      ],
      "execution_count": 6,
      "outputs": [
        {
          "output_type": "stream",
          "text": [
            "hello\n"
          ],
          "name": "stdout"
        }
      ]
    },
    {
      "cell_type": "code",
      "metadata": {
        "id": "x_KoW9l3y5TB",
        "colab_type": "code",
        "colab": {
          "base_uri": "https://localhost:8080/",
          "height": 168
        },
        "outputId": "863aff99-e648-4783-f09b-94ed4f43c82e"
      },
      "source": [
        "print(hello)"
      ],
      "execution_count": 7,
      "outputs": [
        {
          "output_type": "error",
          "ename": "NameError",
          "evalue": "ignored",
          "traceback": [
            "\u001b[0;31m---------------------------------------------------------------------------\u001b[0m",
            "\u001b[0;31mNameError\u001b[0m                                 Traceback (most recent call last)",
            "\u001b[0;32m<ipython-input-7-1cd80308eb4c>\u001b[0m in \u001b[0;36m<module>\u001b[0;34m()\u001b[0m\n\u001b[0;32m----> 1\u001b[0;31m \u001b[0mprint\u001b[0m\u001b[0;34m(\u001b[0m\u001b[0mhello\u001b[0m\u001b[0;34m)\u001b[0m\u001b[0;34m\u001b[0m\u001b[0;34m\u001b[0m\u001b[0m\n\u001b[0m",
            "\u001b[0;31mNameError\u001b[0m: name 'hello' is not defined"
          ]
        }
      ]
    },
    {
      "cell_type": "code",
      "metadata": {
        "id": "vy8ENljTzYGU",
        "colab_type": "code",
        "colab": {
          "base_uri": "https://localhost:8080/",
          "height": 34
        },
        "outputId": "3b720be9-d2bf-4a66-d6b9-398234d6b9f1"
      },
      "source": [
        "type('hello')"
      ],
      "execution_count": 8,
      "outputs": [
        {
          "output_type": "execute_result",
          "data": {
            "text/plain": [
              "str"
            ]
          },
          "metadata": {
            "tags": []
          },
          "execution_count": 8
        }
      ]
    },
    {
      "cell_type": "markdown",
      "metadata": {
        "id": "2FYHFvnEzlZJ",
        "colab_type": "text"
      },
      "source": [
        "### 数字(int, float)"
      ]
    },
    {
      "cell_type": "code",
      "metadata": {
        "id": "HUVHPJsRzmwM",
        "colab_type": "code",
        "colab": {
          "base_uri": "https://localhost:8080/",
          "height": 34
        },
        "outputId": "5a58dd77-68dd-41a7-d6c8-a5adc7ada004"
      },
      "source": [
        "x = 3\n",
        "y = 1.5\n",
        "type(x+y)"
      ],
      "execution_count": 11,
      "outputs": [
        {
          "output_type": "execute_result",
          "data": {
            "text/plain": [
              "float"
            ]
          },
          "metadata": {
            "tags": []
          },
          "execution_count": 11
        }
      ]
    },
    {
      "cell_type": "markdown",
      "metadata": {
        "id": "EMe5pTNf0Ex5",
        "colab_type": "text"
      },
      "source": [
        "型は都合の良い方に合わせてくれる"
      ]
    },
    {
      "cell_type": "markdown",
      "metadata": {
        "id": "30IyXA3y0NcL",
        "colab_type": "text"
      },
      "source": [
        "### 真偽値"
      ]
    },
    {
      "cell_type": "code",
      "metadata": {
        "id": "x6hlgK8f0Rj0",
        "colab_type": "code",
        "colab": {
          "base_uri": "https://localhost:8080/",
          "height": 34
        },
        "outputId": "dfd6db97-7231-4ab2-e101-a6db34eefc3a"
      },
      "source": [
        "x = True\n",
        "type(x)"
      ],
      "execution_count": 14,
      "outputs": [
        {
          "output_type": "execute_result",
          "data": {
            "text/plain": [
              "bool"
            ]
          },
          "metadata": {
            "tags": []
          },
          "execution_count": 14
        }
      ]
    },
    {
      "cell_type": "markdown",
      "metadata": {
        "id": "NfUqAOxn0nT3",
        "colab_type": "text"
      },
      "source": [
        "ブーリアンは大文字でTrue\n",
        "小文字のtrueは変数として使える"
      ]
    },
    {
      "cell_type": "markdown",
      "metadata": {
        "id": "dt5Eu7_302RO",
        "colab_type": "text"
      },
      "source": [
        "## ループ"
      ]
    },
    {
      "cell_type": "code",
      "metadata": {
        "id": "NZrxWWaw04tt",
        "colab_type": "code",
        "colab": {
          "base_uri": "https://localhost:8080/",
          "height": 170
        },
        "outputId": "f72a9a27-485e-423f-846a-5914c56b4b12"
      },
      "source": [
        "for number in range(1, 10):\n",
        "  print(number)"
      ],
      "execution_count": 15,
      "outputs": [
        {
          "output_type": "stream",
          "text": [
            "1\n",
            "2\n",
            "3\n",
            "4\n",
            "5\n",
            "6\n",
            "7\n",
            "8\n",
            "9\n"
          ],
          "name": "stdout"
        }
      ]
    },
    {
      "cell_type": "markdown",
      "metadata": {
        "id": "n981O9Ca-Xjn",
        "colab_type": "text"
      },
      "source": [
        "# ディープラーニング入門"
      ]
    },
    {
      "cell_type": "code",
      "metadata": {
        "id": "Ur3eyYbR-avX",
        "colab_type": "code",
        "colab": {
          "base_uri": "https://localhost:8080/",
          "height": 34
        },
        "outputId": "e6396131-0711-4eb9-e7eb-f566ef663293"
      },
      "source": [
        "# GPUが使われているかを確認\n",
        "import tensorflow as tf\n",
        "tf.test.gpu_device_name()"
      ],
      "execution_count": 1,
      "outputs": [
        {
          "output_type": "execute_result",
          "data": {
            "text/plain": [
              "'/device:GPU:0'"
            ]
          },
          "metadata": {
            "tags": []
          },
          "execution_count": 1
        }
      ]
    },
    {
      "cell_type": "code",
      "metadata": {
        "id": "FPd3g-SO-b2z",
        "colab_type": "code",
        "colab": {
          "base_uri": "https://localhost:8080/",
          "height": 955
        },
        "outputId": "0ab4b5ce-8a20-4af6-9226-513dc9d6a633"
      },
      "source": [
        "# https://github.com/keras-team/keras/blob/master/examples/mnist_cnn.py\n",
        "\n",
        "from __future__ import print_function\n",
        "import keras\n",
        "from keras.datasets import mnist\n",
        "from keras.models import Sequential\n",
        "from keras.layers import Dense, Dropout, Flatten\n",
        "from keras.layers import Conv2D, MaxPooling2D\n",
        "from keras import backend as K\n",
        "\n",
        "batch_size = 128\n",
        "num_classes = 10\n",
        "epochs = 12\n",
        " \n",
        "# input image dimensions\n",
        "img_rows, img_cols = 28, 28\n",
        " \n",
        "# the data, split between train and test sets\n",
        "(x_train, y_train), (x_test, y_test) = mnist.load_data()\n",
        " \n",
        "if K.image_data_format() == 'channels_first':\n",
        "    x_train = x_train.reshape(x_train.shape[0], 1, img_rows, img_cols)\n",
        "    x_test = x_test.reshape(x_test.shape[0], 1, img_rows, img_cols)\n",
        "    input_shape = (1, img_rows, img_cols)\n",
        "else:\n",
        "    x_train = x_train.reshape(x_train.shape[0], img_rows, img_cols, 1)\n",
        "    x_test = x_test.reshape(x_test.shape[0], img_rows, img_cols, 1)\n",
        "    input_shape = (img_rows, img_cols, 1)\n",
        " \n",
        "x_train = x_train.astype('float32')\n",
        "x_test = x_test.astype('float32')\n",
        "x_train /= 255\n",
        "x_test /= 255\n",
        " \n",
        "print('x_train shape:', x_train.shape)\n",
        "print(x_train.shape[0], 'train samples')\n",
        "print(x_test.shape[0], 'test samples')\n",
        " \n",
        "# convert class vectors to binary class matrices\n",
        "y_train = keras.utils.to_categorical(y_train, num_classes)\n",
        "y_test = keras.utils.to_categorical(y_test, num_classes)\n",
        " \n",
        "model = Sequential()\n",
        "model.add(Conv2D(32, kernel_size=(3, 3),\n",
        "                 activation='relu',\n",
        "                 input_shape=input_shape))\n",
        "model.add(Conv2D(64, (3, 3), activation='relu'))\n",
        "model.add(MaxPooling2D(pool_size=(2, 2)))\n",
        "model.add(Dropout(0.25))\n",
        "model.add(Flatten())\n",
        "model.add(Dense(128, activation='relu'))\n",
        "model.add(Dropout(0.5))\n",
        "model.add(Dense(num_classes, activation='softmax'))\n",
        " \n",
        "model.compile(loss=keras.losses.categorical_crossentropy,\n",
        "              optimizer=keras.optimizers.Adadelta(),\n",
        "              metrics=['accuracy'])\n",
        " \n",
        "model.fit(x_train, y_train,\n",
        "          batch_size=batch_size,\n",
        "          epochs=epochs,\n",
        "          verbose=1,\n",
        "          validation_data=(x_test, y_test))\n",
        "score = model.evaluate(x_test, y_test, verbose=0)\n",
        "print('Test loss:', score[0])\n",
        "print('Test accuracy:', score[1])"
      ],
      "execution_count": 5,
      "outputs": [
        {
          "output_type": "stream",
          "text": [
            "Using TensorFlow backend.\n"
          ],
          "name": "stderr"
        },
        {
          "output_type": "stream",
          "text": [
            "Downloading data from https://s3.amazonaws.com/img-datasets/mnist.npz\n",
            "11493376/11490434 [==============================] - 2s 0us/step\n"
          ],
          "name": "stdout"
        },
        {
          "output_type": "stream",
          "text": [
            "WARNING: Logging before flag parsing goes to stderr.\n",
            "W0718 12:10:19.788022 140044727793536 deprecation_wrapper.py:119] From /usr/local/lib/python3.6/dist-packages/keras/backend/tensorflow_backend.py:74: The name tf.get_default_graph is deprecated. Please use tf.compat.v1.get_default_graph instead.\n",
            "\n",
            "W0718 12:10:19.792361 140044727793536 deprecation_wrapper.py:119] From /usr/local/lib/python3.6/dist-packages/keras/backend/tensorflow_backend.py:517: The name tf.placeholder is deprecated. Please use tf.compat.v1.placeholder instead.\n",
            "\n",
            "W0718 12:10:19.802720 140044727793536 deprecation_wrapper.py:119] From /usr/local/lib/python3.6/dist-packages/keras/backend/tensorflow_backend.py:4138: The name tf.random_uniform is deprecated. Please use tf.random.uniform instead.\n",
            "\n",
            "W0718 12:10:19.847484 140044727793536 deprecation_wrapper.py:119] From /usr/local/lib/python3.6/dist-packages/keras/backend/tensorflow_backend.py:3976: The name tf.nn.max_pool is deprecated. Please use tf.nn.max_pool2d instead.\n",
            "\n",
            "W0718 12:10:19.851627 140044727793536 deprecation_wrapper.py:119] From /usr/local/lib/python3.6/dist-packages/keras/backend/tensorflow_backend.py:133: The name tf.placeholder_with_default is deprecated. Please use tf.compat.v1.placeholder_with_default instead.\n",
            "\n",
            "W0718 12:10:19.863883 140044727793536 deprecation.py:506] From /usr/local/lib/python3.6/dist-packages/keras/backend/tensorflow_backend.py:3445: calling dropout (from tensorflow.python.ops.nn_ops) with keep_prob is deprecated and will be removed in a future version.\n",
            "Instructions for updating:\n",
            "Please use `rate` instead of `keep_prob`. Rate should be set to `rate = 1 - keep_prob`.\n",
            "W0718 12:10:19.946475 140044727793536 deprecation_wrapper.py:119] From /usr/local/lib/python3.6/dist-packages/keras/optimizers.py:790: The name tf.train.Optimizer is deprecated. Please use tf.compat.v1.train.Optimizer instead.\n",
            "\n",
            "W0718 12:10:19.958184 140044727793536 deprecation_wrapper.py:119] From /usr/local/lib/python3.6/dist-packages/keras/backend/tensorflow_backend.py:3295: The name tf.log is deprecated. Please use tf.math.log instead.\n",
            "\n"
          ],
          "name": "stderr"
        },
        {
          "output_type": "stream",
          "text": [
            "x_train shape: (60000, 28, 28, 1)\n",
            "60000 train samples\n",
            "10000 test samples\n"
          ],
          "name": "stdout"
        },
        {
          "output_type": "stream",
          "text": [
            "W0718 12:10:20.100840 140044727793536 deprecation.py:323] From /usr/local/lib/python3.6/dist-packages/tensorflow/python/ops/math_grad.py:1250: add_dispatch_support.<locals>.wrapper (from tensorflow.python.ops.array_ops) is deprecated and will be removed in a future version.\n",
            "Instructions for updating:\n",
            "Use tf.where in 2.0, which has the same broadcast rule as np.where\n"
          ],
          "name": "stderr"
        },
        {
          "output_type": "stream",
          "text": [
            "Train on 60000 samples, validate on 10000 samples\n",
            "Epoch 1/12\n",
            "60000/60000 [==============================] - 14s 228us/step - loss: 0.2651 - acc: 0.9195 - val_loss: 0.0537 - val_acc: 0.9829\n",
            "Epoch 2/12\n",
            "60000/60000 [==============================] - 9s 148us/step - loss: 0.0848 - acc: 0.9749 - val_loss: 0.0406 - val_acc: 0.9862\n",
            "Epoch 3/12\n",
            "60000/60000 [==============================] - 9s 148us/step - loss: 0.0637 - acc: 0.9807 - val_loss: 0.0346 - val_acc: 0.9876\n",
            "Epoch 4/12\n",
            "60000/60000 [==============================] - 9s 150us/step - loss: 0.0541 - acc: 0.9835 - val_loss: 0.0326 - val_acc: 0.9892\n",
            "Epoch 5/12\n",
            "60000/60000 [==============================] - 9s 149us/step - loss: 0.0450 - acc: 0.9862 - val_loss: 0.0319 - val_acc: 0.9896\n",
            "Epoch 6/12\n",
            "60000/60000 [==============================] - 9s 148us/step - loss: 0.0410 - acc: 0.9869 - val_loss: 0.0284 - val_acc: 0.9909\n",
            "Epoch 7/12\n",
            "60000/60000 [==============================] - 9s 148us/step - loss: 0.0393 - acc: 0.9882 - val_loss: 0.0283 - val_acc: 0.9901\n",
            "Epoch 8/12\n",
            "60000/60000 [==============================] - 9s 148us/step - loss: 0.0322 - acc: 0.9902 - val_loss: 0.0320 - val_acc: 0.9897\n",
            "Epoch 9/12\n",
            "60000/60000 [==============================] - 9s 148us/step - loss: 0.0312 - acc: 0.9904 - val_loss: 0.0276 - val_acc: 0.9905\n",
            "Epoch 10/12\n",
            "60000/60000 [==============================] - 9s 149us/step - loss: 0.0295 - acc: 0.9908 - val_loss: 0.0273 - val_acc: 0.9917\n",
            "Epoch 11/12\n",
            "60000/60000 [==============================] - 9s 151us/step - loss: 0.0257 - acc: 0.9925 - val_loss: 0.0252 - val_acc: 0.9929\n",
            "Epoch 12/12\n",
            "60000/60000 [==============================] - 9s 150us/step - loss: 0.0245 - acc: 0.9924 - val_loss: 0.0267 - val_acc: 0.9914\n",
            "Test loss: 0.026700626392160483\n",
            "Test accuracy: 0.9914\n"
          ],
          "name": "stdout"
        }
      ]
    }
  ]
}